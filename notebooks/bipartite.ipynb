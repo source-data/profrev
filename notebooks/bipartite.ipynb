{
 "cells": [
  {
   "cell_type": "code",
   "execution_count": 21,
   "id": "ac97d5be-6379-434c-8158-e9c94e780bbd",
   "metadata": {
    "tags": []
   },
   "outputs": [],
   "source": [
    "from pathlib import Path\n",
    "import plotly.express as px\n",
    "import plotly.graph_objects as go\n",
    "from typing import Dict, List, Tuple\n",
    "import torch"
   ]
  },
  {
   "cell_type": "code",
   "execution_count": 6,
   "id": "12e4b70e-5c33-4261-8a68-795ff4d30890",
   "metadata": {
    "tags": []
   },
   "outputs": [],
   "source": [
    "import sys\n",
    "import os\n",
    "\n",
    "app = \"/app\"\n",
    "if app not in sys.path:\n",
    "    sys.path.append(app)"
   ]
  },
  {
   "cell_type": "code",
   "execution_count": 7,
   "id": "0bd3ab2b-733f-49c8-b88e-5e139865cd55",
   "metadata": {
    "tags": []
   },
   "outputs": [],
   "source": [
    "from src.comparator import Comparator\n",
    "from src.embed import Embedder\n",
    "from src.preprint import Preprint\n",
    "from src.review_process import ReviewProcess\n",
    "from src.config import config"
   ]
  },
  {
   "cell_type": "code",
   "execution_count": 8,
   "id": "33cd43cc-d898-498d-8734-c9183eda20ce",
   "metadata": {
    "tags": []
   },
   "outputs": [],
   "source": [
    "embedder = Embedder(model=config.embedding_model)"
   ]
  },
  {
   "cell_type": "code",
   "execution_count": 9,
   "id": "017fc49b-18f4-46d8-af8f-65f7c50d774a",
   "metadata": {
    "tags": []
   },
   "outputs": [],
   "source": [
    "doi = \"10.1101/2021.05.12.443743\""
   ]
  },
  {
   "cell_type": "code",
   "execution_count": 10,
   "id": "4469b9d5-8aee-44f9-b15d-8d60a64a32c5",
   "metadata": {
    "tags": []
   },
   "outputs": [],
   "source": [
    "preprint = Preprint(doi=doi)"
   ]
  },
  {
   "cell_type": "code",
   "execution_count": 11,
   "id": "aaa926dd-1754-454c-b4d1-6968af1a4147",
   "metadata": {
    "tags": []
   },
   "outputs": [],
   "source": [
    "review_process = ReviewProcess(doi=doi)"
   ]
  },
  {
   "cell_type": "code",
   "execution_count": 12,
   "id": "f326cd9f-2f29-4ffa-9a63-4978e7dbc21f",
   "metadata": {
    "tags": []
   },
   "outputs": [],
   "source": [
    "preprint_paragraphs = preprint.get_section_paragraphs(\"results\")"
   ]
  },
  {
   "cell_type": "code",
   "execution_count": 13,
   "id": "f0e819ed-3351-4738-a8b3-9516f747344c",
   "metadata": {
    "tags": []
   },
   "outputs": [],
   "source": [
    "review_paragraphs = review_process.reviews[0].get_paragraphs()"
   ]
  },
  {
   "cell_type": "code",
   "execution_count": 14,
   "id": "f6b6ee30-79e1-4164-bd26-02ce417ad375",
   "metadata": {
    "tags": []
   },
   "outputs": [
    {
     "data": {
      "text/plain": [
       "['**Note:** This preprint has been reviewed by subject experts for *Review Commons*. Content has not been altered except for formatting.',\n",
       " \"In this manuscript, Mishima et al., designed a reporter system (dubbed PACE, for Parallel Analysis of Codon Effects) to assess the effect of codon usage in regulating mRNA stability in a controlled sequence context. This reporter corresponds to a stretch of 20 repetitions of a given codon (to be tested for its effect on mRNA stability), each repetition being separated by one codon corresponding to each of the 20 canonical amino acids. This stretch is inserted at the 3\\\\' end of the coding sequence of a superfolder GFP flanked with fixed 5\\\\' and 3\\\\' untranslated regions. In vitro transcribed capped and polyadenylated RNAs are then produced from these reporters (each with a specific stretch of repetitions of a given codon), pooled together and injected into zebrafish zygotes to monitor their relative abundance at different time points upon injection.\",\n",
       " 'Using the PACE reporter, the authors were able to obtain a quantitative estimation of the impact of 58 out of the 61 sense codons on modulating mRNA stability. Their results are in agreement with a previous report that estimated the effect of codon usage on mRNA stability using endogenous mRNAs and an ORFeome library (Bazzini et al., 2016). However, contrary to relying on endogenous mRNAs and ORFeome reporters, the advantage of the PACE strategy is that the effect of the codon to be studied can be probed in a defined context, thus avoiding the presence of other motifs or transcript features that could also regulate mRNA stability. Similarly to results from Bazzini et al., 2016, the authors show that blocking translation completely abrogates the effect of codon usage, indicating that translation is required to drive codon-dependent mRNA degradation from their reporters. Also, the extent of codon-dependent mRNA decay is correlated with tRNA abundance and occurs through a process involving mRNA deadenylation as previously described in the zebrafish (Mishima et al., 2016 and Bazzini et al., 2016).',\n",
       " 'Having validated their PACE protocol, the authors performed ribosome profiling to test whether ribosome occupancy on tested codons is correlated with their capacity to drive mRNA degradation. Their results indicate that, at least for polar amino acids, there is indeed an inverse correlation between ribosome occupancy at tested codons and mRNA stability thus suggesting that slow decoding of codons due to low levels of available cognate tRNA can induce mRNA degradation. The authors further validate this finding by reducing the levels of aminoacylated tRNAAsn (corresponding a polar amino acid) and showing that stability of the reporter RNA carrying a stretch of AAC codons (decoded by tRNAAsnGUU) is reduced. To test whether codon-dependent mRNA degradation in the context of slow ribosome decoding lead to ribosome stalling and collisions, the authors generated a mutant zebrafish strain with impaired expression of ZNF598 (an essential factor of the No-Go decay (NGD) pathway in yeast). They also integrated a known ribosome stalling sequence from hCMV (and a mutant version that does not trigger ribosome stalling) in their sfGFP reporter construct as a positive control for NGD in their assays. Their results indicate that although ZNF598 depletion impairs degradation of the hCMV reporter (as expected), it does not affect codon-dependent mRNA degradation, which appears to occur for most codons through a NGD-independent manner. Finally, through the use of a tandem ORF reporter assay separated by codon tags to be tested, the authors show that destabilizing codons do not stall ribosomes but only lead to their transient slowdown which induces mRNA deadenylation and degradation in a ZNF598-independent manner.',\n",
       " 'Overall, the manuscript is very well written and pleasant to read. The introduction is well documented and relevant to the study as it allows readers to place the study in the current context of the field while highlighting open questions that have not been addressed yet. The results are clearly presented, the technical approaches are elegant and the conclusions convincing.',\n",
       " 'Below you will find some major and minor points that, in my opinion, should be addressed by the authors.',\n",
       " '- One interesting aspect of the PACE reporter assay is the possibility to monitor ribosome occupancy in parallel for all codon-tags tested, which the authors did in Figure 3. However, instead of using RNA-seq data to normalize ribosome footprints and obtain ribosome occupancy, the authors used an alternative normalization approach consisting, for each codon-tag, to calculate the number of ribosome footprints with test codons in the A site divided by the number of ribosome footprints with spacer codons in the A site. This approach is elegant and appears to work with codons corresponding to polar amino acids. However, it might have its limitations for other codons.',\n",
       " \"Indeed, ribosome dwell times (in yeast and mammals) have been shown to respond both to tRNA availability but also to other features such as the nature of the pair of adjacent codons, and the nature of the amino acid within the exit channel (Gobet C et al., 2020 PNAS; Gamble CE et al., 2016 Cell; Pavlov MY et al., 2009 PNAS). However, based on the work of 'Buschauer R et al., 2020 Science', only ribosomes lacking an accommodated tRNA at the A site are able to recruit Ccr4-Not to mediate mRNA deadenylation and degradation. Other events that increase ribosome dwell time (and thus occupancy), such as slow peptidyl-transfer, do not lead to Ccr4-Not recruitment and are resolved by eIF5A. It is therefore possible that depending on the nature of the codon that is being tested, ribosome occupancy at test and spacer codons can be biased by the nature of codon-pairs and 'dilute' the effects of tRNA availability.\",\n",
       " \"If the authors performed RNA-seq together with the ribosome profiling experiment, it might be interesting to use the RNA-seq data to calculate ribosome occupancy on 'tested' and 'spacer' codons to check whether using this normalization, they do find a negative correlation between ribosome occupancy and PACE stability. A different approach would be to perform ribosome run-off experiments using harringtonine and estimate the elongation speed across the codon tag. However, I am aware that this experiment could be tedious an expensive.\",\n",
       " \"- Figure 6: Insertion of the Lys x8 AAA stretch in the tandem ORF reporter leads to a decrease in HA-DsRedEx expression compared to that of Myc-EGFP. However, results from 'Juszkiewicz and Hedge, 2017' using a similar reporter in mammalian cells indicate that stretches of Lys AAA below 20 repetitions only elicit poor RQC (less than 10% of true ribosome stalling for 12 repetitions of the AAA codon). Instead, most of the loss in RFP signal results from a change in the reading frame of ribosomes due to the 'slippery' translation of the poly(A) stretch. I therefore think that it could be important to perform the experiment in ZNF598 KO embryos to validate that the observed reduction in HA-dsRedEx does indeed result from stalling and RQC and not from a change in the reading frame of ribosomes.\",\n",
       " \"On a similar note, how do the authors explain the decrease in signal of the Flag-EGFP and HA-DsRedEx observed when using the Flag-EGFP with non-optimal codons? I understand that RQC occurring through NGD leads to ribosome disassembly at the stalling site and possibly mRNA cleavage (thus explaining the decrease in HA-DsRedEx signal compared to Myc-EGFP). However, I would assume that codon-mediated mRNA decay (even for ORF longer than 200 of non-optimal codons) should trigger mRNA deadenylation, followed by decapping and co-translational 5\\\\'to3\\\\' mRNA degradation, following the last translating ribosome. I would therefore expect not to see any change in the HA-DsRedEx/Myc-EGFP ratio even for the non-optimal Flag-EGFP reporter. Could the 200 non-optimal codons trigger some background RQC through NGD? Or could there be some ribosome drop-off? It might be interesting to test the optimal and non-optimal Flag-EGFP reporters in the ZNF598 KO background to check whether the observed decrease in the relative amount of HA-DsRedEx results from stalling-dependent RQC.\",\n",
       " \"- The color-coded CSC results from 'Bazzini et al., 2016' presented at the bottom of panel B in figure 2 are misleading because many codons (such as PheUUU, AsnAAU, TyrUAC...) are lacking information. I have the impression that the authors used the combined data from the rCSCI (obtained from the reporter RNAs) and CSC (obtained from endogenous transcripts) corresponding to Figure 1F from Bazzini et al., 2016. This data set excluded all codons that were not concordant between the endogenous and reporter CSCs (which are those that are lacking a color code in Figure 2B from this study). However, in the scatter-plot of PACE Vs CSC (from Supplemental Figure 1D of this study), the authors used the complete set of CSC values from Bazzini et al .,2016. Could the authors please use the complete set of CSC values from Bazzini et al., 2016 to color code codons in their Figure 2B?\",\n",
       " \"- Figure 4B. The charged tRNA measurements seem to have been done in a single biological replicate (there aren\\\\'t any error bars in the chart). I understand that the procedure is tedious and requires a large amount of total RNA to begin with, but it would be preferable to perform it in three biological replicates.\",\n",
       " '- Supplementary Figure 2B. I do not understand what the figure represents. The legend is quite cryptic and states that the panel corresponds to the information content of each reading frame. More information should be given so that readers can understand how to interpret de figure and extract periodicity information.',\n",
       " \"Since the seminal work from Jeff Coller\\\\'s laboratory in 2015 (Presnyak et al., 2015 Cell) showing a global and major role for codon optimality in determining mRNA half-lives in yeast, the role of codon usage in modulating translation and stability of mRNAs has been widely studied in different organisms (including zebrafish and mammals). As stated by the authors in the introduction, most studies have relied on correlation analyses between codon usage and mRNA half-lives from endogenous transcripts or from ORF libraries with fixed 5\\\\'UTR and 3\\\\'UTRs. This approaches could suffer from the presence of transcript features that can participate in other mRNA degradation pathways, which could limit their use when performing further mechanistic studies.\",\n",
       " 'The work by Mishima and collaborators presents an original reporter assay that allows to evaluate the role of codon usage on regulating mRNA stability in a defined context, thus avoiding the impact of confounding factors that could bias the measurement of mRNA stability. Results obtained using this reporter are in good agreement with previous reports from Zebrafish (Bazzini et al 2016., and Mishima et al., 2016). From this validated reporter approach, the authors further show that codon-dependent mRNA degradation is directly related to tRNA availability and (at least partially) to ribosome occupancy (two factors already suggested as being important for codon-mediated decay in zebrafish, although they were based on correlation analyses).  Furthermore, the authors show that codon-mediated mRNA decay occurs during productive mRNA translation and that it is functionally distinct from RQC induced by ribosome stalling. As a consequence, codon-mediated mRNA degradation is independent from the RQC factor ZNF598 (which they also validate for the first time as an important RQC factor in zebrafish). This information is new within metazoans since only in yeast it has been clearly shown that codon-mediated mRNA decay is distinct from RQC induced by ribosome stalling and collisions.',\n",
       " 'Taken together, the reported findings will be of interest to the community working on mRNA metabolism and translation. It could also interest, more broadly,  scientists working on translational selection and genome evolution.']"
      ]
     },
     "execution_count": 14,
     "metadata": {},
     "output_type": "execute_result"
    }
   ],
   "source": [
    "review_paragraphs"
   ]
  },
  {
   "cell_type": "code",
   "execution_count": 15,
   "id": "53db513a-c9b9-4f15-a6b6-5996278766c2",
   "metadata": {
    "tags": []
   },
   "outputs": [],
   "source": [
    "comp = Comparator(embedder)"
   ]
  },
  {
   "cell_type": "code",
   "execution_count": 16,
   "id": "000b698f-d7a8-43d2-b568-b897f53d2529",
   "metadata": {
    "tags": []
   },
   "outputs": [],
   "source": [
    "similarity_matrix = comp.compare_dot(preprint_paragraphs, review_paragraphs)"
   ]
  },
  {
   "cell_type": "code",
   "execution_count": 17,
   "id": "de228f71-ef8d-4689-92b6-1b6b9ac13c69",
   "metadata": {
    "tags": []
   },
   "outputs": [
    {
     "data": {
      "text/plain": [
       "torch.Size([22, 17])"
      ]
     },
     "execution_count": 17,
     "metadata": {},
     "output_type": "execute_result"
    }
   ],
   "source": [
    "similarity_matrix.size()"
   ]
  },
  {
   "cell_type": "code",
   "execution_count": 25,
   "id": "2d2cab6d-0e1f-44e0-bf0d-94e05100b4d3",
   "metadata": {
    "tags": []
   },
   "outputs": [
    {
     "data": {
      "application/vnd.plotly.v1+json": {
       "config": {
        "plotlyServerURL": "https://plot.ly"
       },
       "data": [
        {
         "coloraxis": "coloraxis",
         "hovertemplate": "x: %{x}<br>y: %{y}<br>color: %{z}<extra></extra>",
         "name": "0",
         "type": "heatmap",
         "xaxis": "x",
         "yaxis": "y",
         "z": [
          [
           0,
           0.07870030403137207,
           0.053944945335388184,
           0.06314069032669067,
           0,
           0,
           0,
           0,
           0,
           0,
           0,
           0,
           0,
           0,
           0.010171175003051758,
           0.059923529624938965,
           0
          ],
          [
           0,
           0.03710508346557617,
           0,
           0,
           0,
           0,
           0,
           0,
           0,
           0,
           0,
           0,
           0,
           0,
           0,
           0,
           0
          ],
          [
           0,
           0.06701207160949707,
           0.06252998113632202,
           0.055651307106018066,
           0,
           0,
           0.0032918453216552734,
           0,
           0,
           0,
           0,
           0,
           0,
           0,
           0.013237178325653076,
           0.038726627826690674,
           0
          ],
          [
           0,
           0.06074601411819458,
           0.06075495481491089,
           0.04538172483444214,
           0,
           0,
           0,
           0,
           0,
           0,
           0,
           0,
           0,
           0,
           0.006948530673980713,
           0.032803475856781006,
           0
          ],
          [
           0,
           0.0292627215385437,
           0.08725577592849731,
           0.05765432119369507,
           0,
           0,
           0,
           0,
           0,
           0,
           0,
           0,
           0,
           0,
           0.016259610652923584,
           0.058469951152801514,
           0
          ],
          [
           0,
           0.030331730842590332,
           0.03745609521865845,
           0.00839930772781372,
           0,
           0,
           0,
           0,
           0,
           0,
           0,
           0,
           0,
           0,
           0,
           0.0064144134521484375,
           0
          ],
          [
           0,
           0.03595048189163208,
           0.08999031782150269,
           0.05719435214996338,
           0,
           0,
           0.012296974658966064,
           0,
           0,
           0,
           0,
           0,
           0,
           0,
           0.0504799485206604,
           0.0511932373046875,
           0
          ],
          [
           0,
           0.020817577838897705,
           0.05010020732879639,
           0.03884643316268921,
           0,
           0,
           0.02049708366394043,
           0,
           0,
           0,
           0,
           0,
           0,
           0,
           0,
           0.021875441074371338,
           0
          ],
          [
           0,
           0.005894064903259277,
           0.025436758995056152,
           0.008901119232177734,
           0,
           0,
           0.02144789695739746,
           0,
           0,
           0,
           0,
           0,
           0,
           0,
           0,
           0.0005995631217956543,
           0
          ],
          [
           0,
           0,
           0.02869468927383423,
           0.004891872406005859,
           0,
           0,
           0.011673986911773682,
           0,
           0,
           0,
           0,
           0,
           0,
           0,
           0,
           0,
           0
          ],
          [
           0,
           0,
           0.03175622224807739,
           0.045043766498565674,
           0,
           0,
           0.04338711500167847,
           0.01349562406539917,
           0,
           0,
           0,
           0,
           0,
           0,
           0.008553683757781982,
           0,
           0
          ],
          [
           0,
           0.04290348291397095,
           0.06547898054122925,
           0.07444775104522705,
           0,
           0,
           0,
           0,
           0,
           0.0014737248420715332,
           0,
           0,
           0,
           0,
           0.02275627851486206,
           0.06872886419296265,
           0
          ],
          [
           0,
           0.015974879264831543,
           0,
           0,
           0,
           0,
           0,
           0,
           0,
           0,
           0,
           0,
           0,
           0,
           0,
           0,
           0
          ],
          [
           0,
           0,
           0.013342857360839844,
           0.024722158908843994,
           0,
           0,
           0,
           0.02799743413925171,
           0,
           0,
           0,
           0,
           0,
           0,
           0.006199061870574951,
           0,
           0.01651012897491455
          ],
          [
           0,
           0.011538505554199219,
           0.03344070911407471,
           0.08207392692565918,
           0,
           0,
           0,
           0,
           0,
           0,
           0.002817094326019287,
           0,
           0,
           0,
           0.011729896068572998,
           0.042662739753723145,
           0
          ],
          [
           0,
           0.0376279354095459,
           0.012335360050201416,
           0.04275155067443848,
           0,
           0,
           0,
           0,
           0,
           0,
           0,
           0,
           0,
           0,
           0,
           0.013477027416229248,
           0
          ],
          [
           0,
           0,
           0.030100107192993164,
           0.07311892509460449,
           0,
           0,
           0,
           0,
           0,
           0.020518779754638672,
           0,
           0,
           0,
           0,
           0,
           0.0656057596206665,
           0
          ],
          [
           0,
           0.005291879177093506,
           0.004083812236785889,
           0,
           0,
           0,
           0,
           0,
           0,
           0,
           0,
           0,
           0,
           0,
           0,
           0,
           0
          ],
          [
           0,
           0.006311535835266113,
           0.04956179857254028,
           0.07754343748092651,
           0,
           0,
           0,
           0,
           0,
           0.027943432331085205,
           0,
           0,
           0,
           0,
           0.024434566497802734,
           0.06724977493286133,
           0
          ],
          [
           0,
           0.05441761016845703,
           0.03964519500732422,
           0.0600014328956604,
           0,
           0,
           0,
           0,
           0,
           0.025912463665008545,
           0,
           0,
           0,
           0,
           0.013116538524627686,
           0.02525341510772705,
           0
          ],
          [
           0,
           0.005886435508728027,
           0,
           0,
           0,
           0,
           0,
           0,
           0,
           0,
           0,
           0,
           0,
           0,
           0,
           0,
           0
          ],
          [
           0,
           0,
           0.049289703369140625,
           0.055962979793548584,
           0,
           0,
           0,
           0.0077440738677978516,
           0,
           0.03951764106750488,
           0.03294914960861206,
           0,
           0,
           0,
           0.019430994987487793,
           0.03707796335220337,
           0
          ]
         ]
        }
       ],
       "layout": {
        "autosize": true,
        "coloraxis": {
         "colorscale": [
          [
           0,
           "#0d0887"
          ],
          [
           0.1111111111111111,
           "#46039f"
          ],
          [
           0.2222222222222222,
           "#7201a8"
          ],
          [
           0.3333333333333333,
           "#9c179e"
          ],
          [
           0.4444444444444444,
           "#bd3786"
          ],
          [
           0.5555555555555556,
           "#d8576b"
          ],
          [
           0.6666666666666666,
           "#ed7953"
          ],
          [
           0.7777777777777778,
           "#fb9f3a"
          ],
          [
           0.8888888888888888,
           "#fdca26"
          ],
          [
           1,
           "#f0f921"
          ]
         ]
        },
        "margin": {
         "t": 60
        },
        "template": {
         "data": {
          "bar": [
           {
            "error_x": {
             "color": "#2a3f5f"
            },
            "error_y": {
             "color": "#2a3f5f"
            },
            "marker": {
             "line": {
              "color": "#E5ECF6",
              "width": 0.5
             },
             "pattern": {
              "fillmode": "overlay",
              "size": 10,
              "solidity": 0.2
             }
            },
            "type": "bar"
           }
          ],
          "barpolar": [
           {
            "marker": {
             "line": {
              "color": "#E5ECF6",
              "width": 0.5
             },
             "pattern": {
              "fillmode": "overlay",
              "size": 10,
              "solidity": 0.2
             }
            },
            "type": "barpolar"
           }
          ],
          "carpet": [
           {
            "aaxis": {
             "endlinecolor": "#2a3f5f",
             "gridcolor": "white",
             "linecolor": "white",
             "minorgridcolor": "white",
             "startlinecolor": "#2a3f5f"
            },
            "baxis": {
             "endlinecolor": "#2a3f5f",
             "gridcolor": "white",
             "linecolor": "white",
             "minorgridcolor": "white",
             "startlinecolor": "#2a3f5f"
            },
            "type": "carpet"
           }
          ],
          "choropleth": [
           {
            "colorbar": {
             "outlinewidth": 0,
             "ticks": ""
            },
            "type": "choropleth"
           }
          ],
          "contour": [
           {
            "colorbar": {
             "outlinewidth": 0,
             "ticks": ""
            },
            "colorscale": [
             [
              0,
              "#0d0887"
             ],
             [
              0.1111111111111111,
              "#46039f"
             ],
             [
              0.2222222222222222,
              "#7201a8"
             ],
             [
              0.3333333333333333,
              "#9c179e"
             ],
             [
              0.4444444444444444,
              "#bd3786"
             ],
             [
              0.5555555555555556,
              "#d8576b"
             ],
             [
              0.6666666666666666,
              "#ed7953"
             ],
             [
              0.7777777777777778,
              "#fb9f3a"
             ],
             [
              0.8888888888888888,
              "#fdca26"
             ],
             [
              1,
              "#f0f921"
             ]
            ],
            "type": "contour"
           }
          ],
          "contourcarpet": [
           {
            "colorbar": {
             "outlinewidth": 0,
             "ticks": ""
            },
            "type": "contourcarpet"
           }
          ],
          "heatmap": [
           {
            "colorbar": {
             "outlinewidth": 0,
             "ticks": ""
            },
            "colorscale": [
             [
              0,
              "#0d0887"
             ],
             [
              0.1111111111111111,
              "#46039f"
             ],
             [
              0.2222222222222222,
              "#7201a8"
             ],
             [
              0.3333333333333333,
              "#9c179e"
             ],
             [
              0.4444444444444444,
              "#bd3786"
             ],
             [
              0.5555555555555556,
              "#d8576b"
             ],
             [
              0.6666666666666666,
              "#ed7953"
             ],
             [
              0.7777777777777778,
              "#fb9f3a"
             ],
             [
              0.8888888888888888,
              "#fdca26"
             ],
             [
              1,
              "#f0f921"
             ]
            ],
            "type": "heatmap"
           }
          ],
          "heatmapgl": [
           {
            "colorbar": {
             "outlinewidth": 0,
             "ticks": ""
            },
            "colorscale": [
             [
              0,
              "#0d0887"
             ],
             [
              0.1111111111111111,
              "#46039f"
             ],
             [
              0.2222222222222222,
              "#7201a8"
             ],
             [
              0.3333333333333333,
              "#9c179e"
             ],
             [
              0.4444444444444444,
              "#bd3786"
             ],
             [
              0.5555555555555556,
              "#d8576b"
             ],
             [
              0.6666666666666666,
              "#ed7953"
             ],
             [
              0.7777777777777778,
              "#fb9f3a"
             ],
             [
              0.8888888888888888,
              "#fdca26"
             ],
             [
              1,
              "#f0f921"
             ]
            ],
            "type": "heatmapgl"
           }
          ],
          "histogram": [
           {
            "marker": {
             "pattern": {
              "fillmode": "overlay",
              "size": 10,
              "solidity": 0.2
             }
            },
            "type": "histogram"
           }
          ],
          "histogram2d": [
           {
            "colorbar": {
             "outlinewidth": 0,
             "ticks": ""
            },
            "colorscale": [
             [
              0,
              "#0d0887"
             ],
             [
              0.1111111111111111,
              "#46039f"
             ],
             [
              0.2222222222222222,
              "#7201a8"
             ],
             [
              0.3333333333333333,
              "#9c179e"
             ],
             [
              0.4444444444444444,
              "#bd3786"
             ],
             [
              0.5555555555555556,
              "#d8576b"
             ],
             [
              0.6666666666666666,
              "#ed7953"
             ],
             [
              0.7777777777777778,
              "#fb9f3a"
             ],
             [
              0.8888888888888888,
              "#fdca26"
             ],
             [
              1,
              "#f0f921"
             ]
            ],
            "type": "histogram2d"
           }
          ],
          "histogram2dcontour": [
           {
            "colorbar": {
             "outlinewidth": 0,
             "ticks": ""
            },
            "colorscale": [
             [
              0,
              "#0d0887"
             ],
             [
              0.1111111111111111,
              "#46039f"
             ],
             [
              0.2222222222222222,
              "#7201a8"
             ],
             [
              0.3333333333333333,
              "#9c179e"
             ],
             [
              0.4444444444444444,
              "#bd3786"
             ],
             [
              0.5555555555555556,
              "#d8576b"
             ],
             [
              0.6666666666666666,
              "#ed7953"
             ],
             [
              0.7777777777777778,
              "#fb9f3a"
             ],
             [
              0.8888888888888888,
              "#fdca26"
             ],
             [
              1,
              "#f0f921"
             ]
            ],
            "type": "histogram2dcontour"
           }
          ],
          "mesh3d": [
           {
            "colorbar": {
             "outlinewidth": 0,
             "ticks": ""
            },
            "type": "mesh3d"
           }
          ],
          "parcoords": [
           {
            "line": {
             "colorbar": {
              "outlinewidth": 0,
              "ticks": ""
             }
            },
            "type": "parcoords"
           }
          ],
          "pie": [
           {
            "automargin": true,
            "type": "pie"
           }
          ],
          "scatter": [
           {
            "fillpattern": {
             "fillmode": "overlay",
             "size": 10,
             "solidity": 0.2
            },
            "type": "scatter"
           }
          ],
          "scatter3d": [
           {
            "line": {
             "colorbar": {
              "outlinewidth": 0,
              "ticks": ""
             }
            },
            "marker": {
             "colorbar": {
              "outlinewidth": 0,
              "ticks": ""
             }
            },
            "type": "scatter3d"
           }
          ],
          "scattercarpet": [
           {
            "marker": {
             "colorbar": {
              "outlinewidth": 0,
              "ticks": ""
             }
            },
            "type": "scattercarpet"
           }
          ],
          "scattergeo": [
           {
            "marker": {
             "colorbar": {
              "outlinewidth": 0,
              "ticks": ""
             }
            },
            "type": "scattergeo"
           }
          ],
          "scattergl": [
           {
            "marker": {
             "colorbar": {
              "outlinewidth": 0,
              "ticks": ""
             }
            },
            "type": "scattergl"
           }
          ],
          "scattermapbox": [
           {
            "marker": {
             "colorbar": {
              "outlinewidth": 0,
              "ticks": ""
             }
            },
            "type": "scattermapbox"
           }
          ],
          "scatterpolar": [
           {
            "marker": {
             "colorbar": {
              "outlinewidth": 0,
              "ticks": ""
             }
            },
            "type": "scatterpolar"
           }
          ],
          "scatterpolargl": [
           {
            "marker": {
             "colorbar": {
              "outlinewidth": 0,
              "ticks": ""
             }
            },
            "type": "scatterpolargl"
           }
          ],
          "scatterternary": [
           {
            "marker": {
             "colorbar": {
              "outlinewidth": 0,
              "ticks": ""
             }
            },
            "type": "scatterternary"
           }
          ],
          "surface": [
           {
            "colorbar": {
             "outlinewidth": 0,
             "ticks": ""
            },
            "colorscale": [
             [
              0,
              "#0d0887"
             ],
             [
              0.1111111111111111,
              "#46039f"
             ],
             [
              0.2222222222222222,
              "#7201a8"
             ],
             [
              0.3333333333333333,
              "#9c179e"
             ],
             [
              0.4444444444444444,
              "#bd3786"
             ],
             [
              0.5555555555555556,
              "#d8576b"
             ],
             [
              0.6666666666666666,
              "#ed7953"
             ],
             [
              0.7777777777777778,
              "#fb9f3a"
             ],
             [
              0.8888888888888888,
              "#fdca26"
             ],
             [
              1,
              "#f0f921"
             ]
            ],
            "type": "surface"
           }
          ],
          "table": [
           {
            "cells": {
             "fill": {
              "color": "#EBF0F8"
             },
             "line": {
              "color": "white"
             }
            },
            "header": {
             "fill": {
              "color": "#C8D4E3"
             },
             "line": {
              "color": "white"
             }
            },
            "type": "table"
           }
          ]
         },
         "layout": {
          "annotationdefaults": {
           "arrowcolor": "#2a3f5f",
           "arrowhead": 0,
           "arrowwidth": 1
          },
          "autotypenumbers": "strict",
          "coloraxis": {
           "colorbar": {
            "outlinewidth": 0,
            "ticks": ""
           }
          },
          "colorscale": {
           "diverging": [
            [
             0,
             "#8e0152"
            ],
            [
             0.1,
             "#c51b7d"
            ],
            [
             0.2,
             "#de77ae"
            ],
            [
             0.3,
             "#f1b6da"
            ],
            [
             0.4,
             "#fde0ef"
            ],
            [
             0.5,
             "#f7f7f7"
            ],
            [
             0.6,
             "#e6f5d0"
            ],
            [
             0.7,
             "#b8e186"
            ],
            [
             0.8,
             "#7fbc41"
            ],
            [
             0.9,
             "#4d9221"
            ],
            [
             1,
             "#276419"
            ]
           ],
           "sequential": [
            [
             0,
             "#0d0887"
            ],
            [
             0.1111111111111111,
             "#46039f"
            ],
            [
             0.2222222222222222,
             "#7201a8"
            ],
            [
             0.3333333333333333,
             "#9c179e"
            ],
            [
             0.4444444444444444,
             "#bd3786"
            ],
            [
             0.5555555555555556,
             "#d8576b"
            ],
            [
             0.6666666666666666,
             "#ed7953"
            ],
            [
             0.7777777777777778,
             "#fb9f3a"
            ],
            [
             0.8888888888888888,
             "#fdca26"
            ],
            [
             1,
             "#f0f921"
            ]
           ],
           "sequentialminus": [
            [
             0,
             "#0d0887"
            ],
            [
             0.1111111111111111,
             "#46039f"
            ],
            [
             0.2222222222222222,
             "#7201a8"
            ],
            [
             0.3333333333333333,
             "#9c179e"
            ],
            [
             0.4444444444444444,
             "#bd3786"
            ],
            [
             0.5555555555555556,
             "#d8576b"
            ],
            [
             0.6666666666666666,
             "#ed7953"
            ],
            [
             0.7777777777777778,
             "#fb9f3a"
            ],
            [
             0.8888888888888888,
             "#fdca26"
            ],
            [
             1,
             "#f0f921"
            ]
           ]
          },
          "colorway": [
           "#636efa",
           "#EF553B",
           "#00cc96",
           "#ab63fa",
           "#FFA15A",
           "#19d3f3",
           "#FF6692",
           "#B6E880",
           "#FF97FF",
           "#FECB52"
          ],
          "font": {
           "color": "#2a3f5f"
          },
          "geo": {
           "bgcolor": "white",
           "lakecolor": "white",
           "landcolor": "#E5ECF6",
           "showlakes": true,
           "showland": true,
           "subunitcolor": "white"
          },
          "hoverlabel": {
           "align": "left"
          },
          "hovermode": "closest",
          "mapbox": {
           "style": "light"
          },
          "paper_bgcolor": "white",
          "plot_bgcolor": "#E5ECF6",
          "polar": {
           "angularaxis": {
            "gridcolor": "white",
            "linecolor": "white",
            "ticks": ""
           },
           "bgcolor": "#E5ECF6",
           "radialaxis": {
            "gridcolor": "white",
            "linecolor": "white",
            "ticks": ""
           }
          },
          "scene": {
           "xaxis": {
            "backgroundcolor": "#E5ECF6",
            "gridcolor": "white",
            "gridwidth": 2,
            "linecolor": "white",
            "showbackground": true,
            "ticks": "",
            "zerolinecolor": "white"
           },
           "yaxis": {
            "backgroundcolor": "#E5ECF6",
            "gridcolor": "white",
            "gridwidth": 2,
            "linecolor": "white",
            "showbackground": true,
            "ticks": "",
            "zerolinecolor": "white"
           },
           "zaxis": {
            "backgroundcolor": "#E5ECF6",
            "gridcolor": "white",
            "gridwidth": 2,
            "linecolor": "white",
            "showbackground": true,
            "ticks": "",
            "zerolinecolor": "white"
           }
          },
          "shapedefaults": {
           "line": {
            "color": "#2a3f5f"
           }
          },
          "ternary": {
           "aaxis": {
            "gridcolor": "white",
            "linecolor": "white",
            "ticks": ""
           },
           "baxis": {
            "gridcolor": "white",
            "linecolor": "white",
            "ticks": ""
           },
           "bgcolor": "#E5ECF6",
           "caxis": {
            "gridcolor": "white",
            "linecolor": "white",
            "ticks": ""
           }
          },
          "title": {
           "x": 0.05
          },
          "xaxis": {
           "automargin": true,
           "gridcolor": "white",
           "linecolor": "white",
           "ticks": "",
           "title": {
            "standoff": 15
           },
           "zerolinecolor": "white",
           "zerolinewidth": 2
          },
          "yaxis": {
           "automargin": true,
           "gridcolor": "white",
           "linecolor": "white",
           "ticks": "",
           "title": {
            "standoff": 15
           },
           "zerolinecolor": "white",
           "zerolinewidth": 2
          }
         }
        },
        "xaxis": {
         "anchor": "y",
         "autorange": true,
         "constrain": "domain",
         "domain": [
          0.23015873015873017,
          0.7698412698412698
         ],
         "range": [
          -0.5,
          16.5
         ],
         "scaleanchor": "y"
        },
        "yaxis": {
         "anchor": "x",
         "autorange": true,
         "constrain": "domain",
         "domain": [
          0,
          1
         ],
         "range": [
          21.5,
          -0.5
         ]
        }
       }
      },
      "image/png": "[encoded data removed]",
      "text/html": [
       "<div>                            <div id=\"a963b7b0-f017-44c2-8040-0ef70f24cab8\" class=\"plotly-graph-div\" style=\"height:525px; width:100%;\"></div>            <script type=\"text/javascript\">                require([\"plotly\"], function(Plotly) {                    window.PLOTLYENV=window.PLOTLYENV || {};                                    if (document.getElementById(\"a963b7b0-f017-44c2-8040-0ef70f24cab8\")) {                    Plotly.newPlot(                        \"a963b7b0-f017-44c2-8040-0ef70f24cab8\",                        [{\"coloraxis\":\"coloraxis\",\"name\":\"0\",\"z\":[[0.0,0.07870030403137207,0.053944945335388184,0.06314069032669067,0.0,0.0,0.0,0.0,0.0,0.0,0.0,0.0,0.0,0.0,0.010171175003051758,0.059923529624938965,0.0],[0.0,0.03710508346557617,0.0,0.0,0.0,0.0,0.0,0.0,0.0,0.0,0.0,0.0,0.0,0.0,0.0,0.0,0.0],[0.0,0.06701207160949707,0.06252998113632202,0.055651307106018066,0.0,0.0,0.0032918453216552734,0.0,0.0,0.0,0.0,0.0,0.0,0.0,0.013237178325653076,0.038726627826690674,0.0],[0.0,0.06074601411819458,0.06075495481491089,0.04538172483444214,0.0,0.0,0.0,0.0,0.0,0.0,0.0,0.0,0.0,0.0,0.006948530673980713,0.032803475856781006,0.0],[0.0,0.0292627215385437,0.08725577592849731,0.05765432119369507,0.0,0.0,0.0,0.0,0.0,0.0,0.0,0.0,0.0,0.0,0.016259610652923584,0.058469951152801514,0.0],[0.0,0.030331730842590332,0.03745609521865845,0.00839930772781372,0.0,0.0,0.0,0.0,0.0,0.0,0.0,0.0,0.0,0.0,0.0,0.0064144134521484375,0.0],[0.0,0.03595048189163208,0.08999031782150269,0.05719435214996338,0.0,0.0,0.012296974658966064,0.0,0.0,0.0,0.0,0.0,0.0,0.0,0.0504799485206604,0.0511932373046875,0.0],[0.0,0.020817577838897705,0.05010020732879639,0.03884643316268921,0.0,0.0,0.02049708366394043,0.0,0.0,0.0,0.0,0.0,0.0,0.0,0.0,0.021875441074371338,0.0],[0.0,0.005894064903259277,0.025436758995056152,0.008901119232177734,0.0,0.0,0.02144789695739746,0.0,0.0,0.0,0.0,0.0,0.0,0.0,0.0,0.0005995631217956543,0.0],[0.0,0.0,0.02869468927383423,0.004891872406005859,0.0,0.0,0.011673986911773682,0.0,0.0,0.0,0.0,0.0,0.0,0.0,0.0,0.0,0.0],[0.0,0.0,0.03175622224807739,0.045043766498565674,0.0,0.0,0.04338711500167847,0.01349562406539917,0.0,0.0,0.0,0.0,0.0,0.0,0.008553683757781982,0.0,0.0],[0.0,0.04290348291397095,0.06547898054122925,0.07444775104522705,0.0,0.0,0.0,0.0,0.0,0.0014737248420715332,0.0,0.0,0.0,0.0,0.02275627851486206,0.06872886419296265,0.0],[0.0,0.015974879264831543,0.0,0.0,0.0,0.0,0.0,0.0,0.0,0.0,0.0,0.0,0.0,0.0,0.0,0.0,0.0],[0.0,0.0,0.013342857360839844,0.024722158908843994,0.0,0.0,0.0,0.02799743413925171,0.0,0.0,0.0,0.0,0.0,0.0,0.006199061870574951,0.0,0.01651012897491455],[0.0,0.011538505554199219,0.03344070911407471,0.08207392692565918,0.0,0.0,0.0,0.0,0.0,0.0,0.002817094326019287,0.0,0.0,0.0,0.011729896068572998,0.042662739753723145,0.0],[0.0,0.0376279354095459,0.012335360050201416,0.04275155067443848,0.0,0.0,0.0,0.0,0.0,0.0,0.0,0.0,0.0,0.0,0.0,0.013477027416229248,0.0],[0.0,0.0,0.030100107192993164,0.07311892509460449,0.0,0.0,0.0,0.0,0.0,0.020518779754638672,0.0,0.0,0.0,0.0,0.0,0.0656057596206665,0.0],[0.0,0.005291879177093506,0.004083812236785889,0.0,0.0,0.0,0.0,0.0,0.0,0.0,0.0,0.0,0.0,0.0,0.0,0.0,0.0],[0.0,0.006311535835266113,0.04956179857254028,0.07754343748092651,0.0,0.0,0.0,0.0,0.0,0.027943432331085205,0.0,0.0,0.0,0.0,0.024434566497802734,0.06724977493286133,0.0],[0.0,0.05441761016845703,0.03964519500732422,0.0600014328956604,0.0,0.0,0.0,0.0,0.0,0.025912463665008545,0.0,0.0,0.0,0.0,0.013116538524627686,0.02525341510772705,0.0],[0.0,0.005886435508728027,0.0,0.0,0.0,0.0,0.0,0.0,0.0,0.0,0.0,0.0,0.0,0.0,0.0,0.0,0.0],[0.0,0.0,0.049289703369140625,0.055962979793548584,0.0,0.0,0.0,0.0077440738677978516,0.0,0.03951764106750488,0.03294914960861206,0.0,0.0,0.0,0.019430994987487793,0.03707796335220337,0.0]],\"type\":\"heatmap\",\"xaxis\":\"x\",\"yaxis\":\"y\",\"hovertemplate\":\"x: %{x}<br>y: %{y}<br>color: %{z}<extra></extra>\"}],                        {\"template\":{\"data\":{\"histogram2dcontour\":[{\"type\":\"histogram2dcontour\",\"colorbar\":{\"outlinewidth\":0,\"ticks\":\"\"},\"colorscale\":[[0.0,\"#0d0887\"],[0.1111111111111111,\"#46039f\"],[0.2222222222222222,\"#7201a8\"],[0.3333333333333333,\"#9c179e\"],[0.4444444444444444,\"#bd3786\"],[0.5555555555555556,\"#d8576b\"],[0.6666666666666666,\"#ed7953\"],[0.7777777777777778,\"#fb9f3a\"],[0.8888888888888888,\"#fdca26\"],[1.0,\"#f0f921\"]]}],\"choropleth\":[{\"type\":\"choropleth\",\"colorbar\":{\"outlinewidth\":0,\"ticks\":\"\"}}],\"histogram2d\":[{\"type\":\"histogram2d\",\"colorbar\":{\"outlinewidth\":0,\"ticks\":\"\"},\"colorscale\":[[0.0,\"#0d0887\"],[0.1111111111111111,\"#46039f\"],[0.2222222222222222,\"#7201a8\"],[0.3333333333333333,\"#9c179e\"],[0.4444444444444444,\"#bd3786\"],[0.5555555555555556,\"#d8576b\"],[0.6666666666666666,\"#ed7953\"],[0.7777777777777778,\"#fb9f3a\"],[0.8888888888888888,\"#fdca26\"],[1.0,\"#f0f921\"]]}],\"heatmap\":[{\"type\":\"heatmap\",\"colorbar\":{\"outlinewidth\":0,\"ticks\":\"\"},\"colorscale\":[[0.0,\"#0d0887\"],[0.1111111111111111,\"#46039f\"],[0.2222222222222222,\"#7201a8\"],[0.3333333333333333,\"#9c179e\"],[0.4444444444444444,\"#bd3786\"],[0.5555555555555556,\"#d8576b\"],[0.6666666666666666,\"#ed7953\"],[0.7777777777777778,\"#fb9f3a\"],[0.8888888888888888,\"#fdca26\"],[1.0,\"#f0f921\"]]}],\"heatmapgl\":[{\"type\":\"heatmapgl\",\"colorbar\":{\"outlinewidth\":0,\"ticks\":\"\"},\"colorscale\":[[0.0,\"#0d0887\"],[0.1111111111111111,\"#46039f\"],[0.2222222222222222,\"#7201a8\"],[0.3333333333333333,\"#9c179e\"],[0.4444444444444444,\"#bd3786\"],[0.5555555555555556,\"#d8576b\"],[0.6666666666666666,\"#ed7953\"],[0.7777777777777778,\"#fb9f3a\"],[0.8888888888888888,\"#fdca26\"],[1.0,\"#f0f921\"]]}],\"contourcarpet\":[{\"type\":\"contourcarpet\",\"colorbar\":{\"outlinewidth\":0,\"ticks\":\"\"}}],\"contour\":[{\"type\":\"contour\",\"colorbar\":{\"outlinewidth\":0,\"ticks\":\"\"},\"colorscale\":[[0.0,\"#0d0887\"],[0.1111111111111111,\"#46039f\"],[0.2222222222222222,\"#7201a8\"],[0.3333333333333333,\"#9c179e\"],[0.4444444444444444,\"#bd3786\"],[0.5555555555555556,\"#d8576b\"],[0.6666666666666666,\"#ed7953\"],[0.7777777777777778,\"#fb9f3a\"],[0.8888888888888888,\"#fdca26\"],[1.0,\"#f0f921\"]]}],\"surface\":[{\"type\":\"surface\",\"colorbar\":{\"outlinewidth\":0,\"ticks\":\"\"},\"colorscale\":[[0.0,\"#0d0887\"],[0.1111111111111111,\"#46039f\"],[0.2222222222222222,\"#7201a8\"],[0.3333333333333333,\"#9c179e\"],[0.4444444444444444,\"#bd3786\"],[0.5555555555555556,\"#d8576b\"],[0.6666666666666666,\"#ed7953\"],[0.7777777777777778,\"#fb9f3a\"],[0.8888888888888888,\"#fdca26\"],[1.0,\"#f0f921\"]]}],\"mesh3d\":[{\"type\":\"mesh3d\",\"colorbar\":{\"outlinewidth\":0,\"ticks\":\"\"}}],\"scatter\":[{\"fillpattern\":{\"fillmode\":\"overlay\",\"size\":10,\"solidity\":0.2},\"type\":\"scatter\"}],\"parcoords\":[{\"type\":\"parcoords\",\"line\":{\"colorbar\":{\"outlinewidth\":0,\"ticks\":\"\"}}}],\"scatterpolargl\":[{\"type\":\"scatterpolargl\",\"marker\":{\"colorbar\":{\"outlinewidth\":0,\"ticks\":\"\"}}}],\"bar\":[{\"error_x\":{\"color\":\"#2a3f5f\"},\"error_y\":{\"color\":\"#2a3f5f\"},\"marker\":{\"line\":{\"color\":\"#E5ECF6\",\"width\":0.5},\"pattern\":{\"fillmode\":\"overlay\",\"size\":10,\"solidity\":0.2}},\"type\":\"bar\"}],\"scattergeo\":[{\"type\":\"scattergeo\",\"marker\":{\"colorbar\":{\"outlinewidth\":0,\"ticks\":\"\"}}}],\"scatterpolar\":[{\"type\":\"scatterpolar\",\"marker\":{\"colorbar\":{\"outlinewidth\":0,\"ticks\":\"\"}}}],\"histogram\":[{\"marker\":{\"pattern\":{\"fillmode\":\"overlay\",\"size\":10,\"solidity\":0.2}},\"type\":\"histogram\"}],\"scattergl\":[{\"type\":\"scattergl\",\"marker\":{\"colorbar\":{\"outlinewidth\":0,\"ticks\":\"\"}}}],\"scatter3d\":[{\"type\":\"scatter3d\",\"line\":{\"colorbar\":{\"outlinewidth\":0,\"ticks\":\"\"}},\"marker\":{\"colorbar\":{\"outlinewidth\":0,\"ticks\":\"\"}}}],\"scattermapbox\":[{\"type\":\"scattermapbox\",\"marker\":{\"colorbar\":{\"outlinewidth\":0,\"ticks\":\"\"}}}],\"scatterternary\":[{\"type\":\"scatterternary\",\"marker\":{\"colorbar\":{\"outlinewidth\":0,\"ticks\":\"\"}}}],\"scattercarpet\":[{\"type\":\"scattercarpet\",\"marker\":{\"colorbar\":{\"outlinewidth\":0,\"ticks\":\"\"}}}],\"carpet\":[{\"aaxis\":{\"endlinecolor\":\"#2a3f5f\",\"gridcolor\":\"white\",\"linecolor\":\"white\",\"minorgridcolor\":\"white\",\"startlinecolor\":\"#2a3f5f\"},\"baxis\":{\"endlinecolor\":\"#2a3f5f\",\"gridcolor\":\"white\",\"linecolor\":\"white\",\"minorgridcolor\":\"white\",\"startlinecolor\":\"#2a3f5f\"},\"type\":\"carpet\"}],\"table\":[{\"cells\":{\"fill\":{\"color\":\"#EBF0F8\"},\"line\":{\"color\":\"white\"}},\"header\":{\"fill\":{\"color\":\"#C8D4E3\"},\"line\":{\"color\":\"white\"}},\"type\":\"table\"}],\"barpolar\":[{\"marker\":{\"line\":{\"color\":\"#E5ECF6\",\"width\":0.5},\"pattern\":{\"fillmode\":\"overlay\",\"size\":10,\"solidity\":0.2}},\"type\":\"barpolar\"}],\"pie\":[{\"automargin\":true,\"type\":\"pie\"}]},\"layout\":{\"autotypenumbers\":\"strict\",\"colorway\":[\"#636efa\",\"#EF553B\",\"#00cc96\",\"#ab63fa\",\"#FFA15A\",\"#19d3f3\",\"#FF6692\",\"#B6E880\",\"#FF97FF\",\"#FECB52\"],\"font\":{\"color\":\"#2a3f5f\"},\"hovermode\":\"closest\",\"hoverlabel\":{\"align\":\"left\"},\"paper_bgcolor\":\"white\",\"plot_bgcolor\":\"#E5ECF6\",\"polar\":{\"bgcolor\":\"#E5ECF6\",\"angularaxis\":{\"gridcolor\":\"white\",\"linecolor\":\"white\",\"ticks\":\"\"},\"radialaxis\":{\"gridcolor\":\"white\",\"linecolor\":\"white\",\"ticks\":\"\"}},\"ternary\":{\"bgcolor\":\"#E5ECF6\",\"aaxis\":{\"gridcolor\":\"white\",\"linecolor\":\"white\",\"ticks\":\"\"},\"baxis\":{\"gridcolor\":\"white\",\"linecolor\":\"white\",\"ticks\":\"\"},\"caxis\":{\"gridcolor\":\"white\",\"linecolor\":\"white\",\"ticks\":\"\"}},\"coloraxis\":{\"colorbar\":{\"outlinewidth\":0,\"ticks\":\"\"}},\"colorscale\":{\"sequential\":[[0.0,\"#0d0887\"],[0.1111111111111111,\"#46039f\"],[0.2222222222222222,\"#7201a8\"],[0.3333333333333333,\"#9c179e\"],[0.4444444444444444,\"#bd3786\"],[0.5555555555555556,\"#d8576b\"],[0.6666666666666666,\"#ed7953\"],[0.7777777777777778,\"#fb9f3a\"],[0.8888888888888888,\"#fdca26\"],[1.0,\"#f0f921\"]],\"sequentialminus\":[[0.0,\"#0d0887\"],[0.1111111111111111,\"#46039f\"],[0.2222222222222222,\"#7201a8\"],[0.3333333333333333,\"#9c179e\"],[0.4444444444444444,\"#bd3786\"],[0.5555555555555556,\"#d8576b\"],[0.6666666666666666,\"#ed7953\"],[0.7777777777777778,\"#fb9f3a\"],[0.8888888888888888,\"#fdca26\"],[1.0,\"#f0f921\"]],\"diverging\":[[0,\"#8e0152\"],[0.1,\"#c51b7d\"],[0.2,\"#de77ae\"],[0.3,\"#f1b6da\"],[0.4,\"#fde0ef\"],[0.5,\"#f7f7f7\"],[0.6,\"#e6f5d0\"],[0.7,\"#b8e186\"],[0.8,\"#7fbc41\"],[0.9,\"#4d9221\"],[1,\"#276419\"]]},\"xaxis\":{\"gridcolor\":\"white\",\"linecolor\":\"white\",\"ticks\":\"\",\"title\":{\"standoff\":15},\"zerolinecolor\":\"white\",\"automargin\":true,\"zerolinewidth\":2},\"yaxis\":{\"gridcolor\":\"white\",\"linecolor\":\"white\",\"ticks\":\"\",\"title\":{\"standoff\":15},\"zerolinecolor\":\"white\",\"automargin\":true,\"zerolinewidth\":2},\"scene\":{\"xaxis\":{\"backgroundcolor\":\"#E5ECF6\",\"gridcolor\":\"white\",\"linecolor\":\"white\",\"showbackground\":true,\"ticks\":\"\",\"zerolinecolor\":\"white\",\"gridwidth\":2},\"yaxis\":{\"backgroundcolor\":\"#E5ECF6\",\"gridcolor\":\"white\",\"linecolor\":\"white\",\"showbackground\":true,\"ticks\":\"\",\"zerolinecolor\":\"white\",\"gridwidth\":2},\"zaxis\":{\"backgroundcolor\":\"#E5ECF6\",\"gridcolor\":\"white\",\"linecolor\":\"white\",\"showbackground\":true,\"ticks\":\"\",\"zerolinecolor\":\"white\",\"gridwidth\":2}},\"shapedefaults\":{\"line\":{\"color\":\"#2a3f5f\"}},\"annotationdefaults\":{\"arrowcolor\":\"#2a3f5f\",\"arrowhead\":0,\"arrowwidth\":1},\"geo\":{\"bgcolor\":\"white\",\"landcolor\":\"#E5ECF6\",\"subunitcolor\":\"white\",\"showland\":true,\"showlakes\":true,\"lakecolor\":\"white\"},\"title\":{\"x\":0.05},\"mapbox\":{\"style\":\"light\"}}},\"xaxis\":{\"anchor\":\"y\",\"domain\":[0.0,1.0],\"scaleanchor\":\"y\",\"constrain\":\"domain\"},\"yaxis\":{\"anchor\":\"x\",\"domain\":[0.0,1.0],\"autorange\":\"reversed\",\"constrain\":\"domain\"},\"coloraxis\":{\"colorscale\":[[0.0,\"#0d0887\"],[0.1111111111111111,\"#46039f\"],[0.2222222222222222,\"#7201a8\"],[0.3333333333333333,\"#9c179e\"],[0.4444444444444444,\"#bd3786\"],[0.5555555555555556,\"#d8576b\"],[0.6666666666666666,\"#ed7953\"],[0.7777777777777778,\"#fb9f3a\"],[0.8888888888888888,\"#fdca26\"],[1.0,\"#f0f921\"]]},\"margin\":{\"t\":60}},                        {\"responsive\": true}                    ).then(function(){\n",
       "                            \n",
       "var gd = document.getElementById('a963b7b0-f017-44c2-8040-0ef70f24cab8');\n",
       "var x = new MutationObserver(function (mutations, observer) {{\n",
       "        var display = window.getComputedStyle(gd).display;\n",
       "        if (!display || display === 'none') {{\n",
       "            console.log([gd, 'removed!']);\n",
       "            Plotly.purge(gd);\n",
       "            observer.disconnect();\n",
       "        }}\n",
       "}});\n",
       "\n",
       "// Listen for the removal of the full notebook cells\n",
       "var notebookContainer = gd.closest('#notebook-container');\n",
       "if (notebookContainer) {{\n",
       "    x.observe(notebookContainer, {childList: true});\n",
       "}}\n",
       "\n",
       "// Listen for the clearing of the current output cell\n",
       "var outputEl = gd.closest('.output');\n",
       "if (outputEl) {{\n",
       "    x.observe(outputEl, {childList: true});\n",
       "}}\n",
       "\n",
       "                        })                };                });            </script>        </div>"
      ]
     },
     "metadata": {},
     "output_type": "display_data"
    }
   ],
   "source": [
    "fig = px.imshow(\n",
    "    torch.clamp(similarity_matrix - 0.8, 0, 1)\n",
    ")\n",
    "fig.show()"
   ]
  },
  {
   "cell_type": "code",
   "execution_count": 15,
   "id": "fd48c4ca-986a-4c1e-805f-4759c09d005e",
   "metadata": {
    "tags": []
   },
   "outputs": [
    {
     "name": "stdout",
     "output_type": "stream",
     "text": [
      "0 We designed an artificial codon-tag sequence to analyze the codon effects on mRN\n",
      "1 (A) A scheme of the codon-tag reporter system. A codon to be tested (pink, in th\n",
      "2 Having validated the codon-tag reporter system with the two Leu codons, we const\n",
      "3 (A) Scheme of parallel analysis of codon effects (PACE). Codon tag reporter mRNA\n",
      "4 Several lines of evidence indicated that PACE was a valid approach for the analy\n",
      "5 (A) A scatter plot showing the reproducibility of the codon effects measured by \n",
      "6 Using CSC and tRNA sequencing, Bazzini et al. showed that nonoptimal codons tend\n",
      "7 Next, we asked if the codon effects measured by PACE correlated with the ribosom\n",
      "8 (A) Distribution of the ribosome footprint lengths derived from codon-tag sequen\n",
      "9 (A) Scheme of ribosome footprint analysis using PACE reporter mRNAs. An example \n",
      "10 We first analyzed a correlation between the codon effects measured by PACE and t\n",
      "11 Next, we modulated tRNA availability in zebrafish embryos to experimentally vali\n",
      "12 (A) AnsB causes asparagine deprivation by converting asparagine to aspartic acid\n",
      "13 In theory, the slowed ribosome at the decoding step may drive other types of cot\n",
      "14 As NGD has not been previously reported in zebrafish, we first had to investigat\n",
      "15 (A) A scheme of the hCMV uORF2 reporter mRNAs. Wild-type hCMV uORF2 (light blue)\n",
      "16 RQC-coupled NGD in yeast requires the E3 ubiquitin ligase Hel2 and subsequent ub\n",
      "17 (A) qRT-PCR analysis of actb1 and znf598 mRNA levels in wild-type and MZznf598 e\n",
      "18 This observation led us to test the impact of Znf598 on codon effects measured b\n",
      "19 To further characterize the nature of the ribosome slowdown that leads to codon-\n",
      "20 (A) A schematic of the tandem ORF assay. Myc-tagged EGFP ORF (green) and HA-tagg\n",
      "21 To verify the sensitivity of the assay, we first analyzed the effect of the cons\n"
     ]
    }
   ],
   "source": [
    "for i, p in enumerate(preprint_paragraphs):\n",
    "    print(i, p[:80])"
   ]
  },
  {
   "cell_type": "code",
   "execution_count": 16,
   "id": "48964302-24c4-4e86-88b0-18faca90b95e",
   "metadata": {
    "tags": []
   },
   "outputs": [
    {
     "name": "stdout",
     "output_type": "stream",
     "text": [
      "0 **Note:** This preprint has been reviewed by subject experts for *Review Commons\n",
      "1 In this manuscript, Mishima et al., designed a reporter system (dubbed PACE, for\n",
      "2 Using the PACE reporter, the authors were able to obtain a quantitative estimati\n",
      "3 Having validated their PACE protocol, the authors performed ribosome profiling t\n",
      "4 Overall, the manuscript is very well written and pleasant to read. The introduct\n",
      "5 Below you will find some major and minor points that, in my opinion, should be a\n",
      "6 - One interesting aspect of the PACE reporter assay is the possibility to monito\n",
      "7 Indeed, ribosome dwell times (in yeast and mammals) have been shown to respond b\n",
      "8 If the authors performed RNA-seq together with the ribosome profiling experiment\n",
      "9 - Figure 6: Insertion of the Lys x8 AAA stretch in the tandem ORF reporter leads\n",
      "10 On a similar note, how do the authors explain the decrease in signal of the Flag\n",
      "11 - The color-coded CSC results from 'Bazzini et al., 2016' presented at the botto\n",
      "12 - Figure 4B. The charged tRNA measurements seem to have been done in a single bi\n",
      "13 - Supplementary Figure 2B. I do not understand what the figure represents. The l\n",
      "14 Since the seminal work from Jeff Coller\\'s laboratory in 2015 (Presnyak et al., \n",
      "15 The work by Mishima and collaborators presents an original reporter assay that a\n",
      "16 Taken together, the reported findings will be of interest to the community worki\n"
     ]
    }
   ],
   "source": [
    "for i, p in enumerate(review_paragraphs):\n",
    "    print(i, p[:80])"
   ]
  },
  {
   "cell_type": "code",
   "execution_count": null,
   "id": "75229888-7966-4c06-8516-1c7775454433",
   "metadata": {},
   "outputs": [],
   "source": []
  }
 ],
 "metadata": {
  "kernelspec": {
   "display_name": "Python 3 (ipykernel)",
   "language": "python",
   "name": "python3"
  },
  "language_info": {
   "codemirror_mode": {
    "name": "ipython",
    "version": 3
   },
   "file_extension": ".py",
   "mimetype": "text/x-python",
   "name": "python",
   "nbconvert_exporter": "python",
   "pygments_lexer": "ipython3",
   "version": "3.10.10"
  }
 },
 "nbformat": 4,
 "nbformat_minor": 5
}
